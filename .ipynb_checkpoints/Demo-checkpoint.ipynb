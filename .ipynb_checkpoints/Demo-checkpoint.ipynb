{
 "cells": [
  {
   "cell_type": "markdown",
   "metadata": {},
   "source": [
    "Reference: Evidence of Predictable Behavior of Security Returns by N. Jegadeesh"
   ]
  },
  {
   "cell_type": "markdown",
   "metadata": {},
   "source": [
    "First we configure the notebook to show plots inline and import necessary python packages."
   ]
  },
  {
   "cell_type": "code",
   "execution_count": 1,
   "metadata": {
    "collapsed": false
   },
   "outputs": [
    {
     "name": "stderr",
     "output_type": "stream",
     "text": [
      "/usr/local/lib/python2.7/dist-packages/matplotlib/font_manager.py:273: UserWarning: Matplotlib is building the font cache using fc-list. This may take a moment.\n",
      "  warnings.warn('Matplotlib is building the font cache using fc-list. This may take a moment.')\n"
     ]
    }
   ],
   "source": [
    "%matplotlib inline\n",
    "import numpy as np\n",
    "import pandas as pd\n",
    "import statsmodels.api as sm\n",
    "from matplotlib import pyplot as plt"
   ]
  },
  {
   "cell_type": "markdown",
   "metadata": {},
   "source": [
    "# 1. Get data for backtesting"
   ]
  },
  {
   "cell_type": "markdown",
   "metadata": {},
   "source": [
    "The period for backtesting is selected to be from 01/31/2000 to 12/31/2015. The data for backtesting were downloaded from Yahoo! Finance with publicly available python modules. All data are pre-downloaded and saved in CSV files, which is read and formatted using self-defined function"
   ]
  },
  {
   "cell_type": "code",
   "execution_count": 2,
   "metadata": {
    "collapsed": true
   },
   "outputs": [],
   "source": [
    "from my_helper_fn import read_from_csv"
   ]
  },
  {
   "cell_type": "markdown",
   "metadata": {},
   "source": [
    "## Stock price data"
   ]
  },
  {
   "cell_type": "code",
   "execution_count": 3,
   "metadata": {
    "collapsed": false
   },
   "outputs": [
    {
     "name": "stdout",
     "output_type": "stream",
     "text": [
      "                   A        AA      AAPL       ABC       ABT\n",
      "Date                                                        \n",
      "2000-01-31 -0.143897 -0.160392  0.009118  0.193414 -0.098862\n",
      "2000-02-29  0.569405 -0.013621  0.104819 -0.196553  0.013436\n",
      "2000-03-31  0.001203  0.025547  0.184842  0.030045  0.066288\n",
      "2000-04-28 -0.147837 -0.076512 -0.086516  0.333333  0.097843\n",
      "2000-05-31 -0.169252 -0.095731 -0.322922  0.212500  0.058536\n"
     ]
    }
   ],
   "source": [
    "price_csv = 'stock_adj_close_2000_2015.csv';\n",
    "stock_prices = read_from_csv( price_csv );\n",
    "monthly_stock_prices = stock_prices.resample( \"BM\" ).last();\n",
    "monthly_stock_returns = monthly_stock_prices.pct_change().iloc[1:];\n",
    "\n",
    "# Take a peek at the data\n",
    "print monthly_stock_returns.iloc[:5,:5]"
   ]
  },
  {
   "cell_type": "markdown",
   "metadata": {},
   "source": [
    "#### Looking-forward bias"
   ]
  },
  {
   "cell_type": "markdown",
   "metadata": {},
   "source": [
    "The universe of stocks is selected to be all those stocks that have been in S&P500 since 2000 through 2015. This introduces looking-forward or survivorship bias, because only those stocks that manage to remain in S&P500 are kept. The number of stocks selected is a little more than 400, so an implied assumption is that this looking-forward bias can be ignored in our backtest."
   ]
  },
  {
   "cell_type": "markdown",
   "metadata": {},
   "source": [
    "## Benchmark: S&P 500"
   ]
  },
  {
   "cell_type": "code",
   "execution_count": 4,
   "metadata": {
    "collapsed": false
   },
   "outputs": [
    {
     "name": "stdout",
     "output_type": "stream",
     "text": [
      "               ^GSPC\n",
      "Date                \n",
      "1991-01-31  0.041518\n",
      "1991-02-28  0.067281\n",
      "1991-03-29  0.022203\n",
      "1991-04-30  0.000320\n",
      "1991-05-31  0.038605\n"
     ]
    }
   ],
   "source": [
    "snp_500 = read_from_csv( \"benchmark.csv\" );\n",
    "snp_500 = snp_500.resample( \"BM\" ).last();\n",
    "snp_500_returns = snp_500.pct_change().iloc[1:];\n",
    "benchmark_returns = snp_500_returns;\n",
    "\n",
    "print benchmark_returns.iloc[:5,:];"
   ]
  },
  {
   "cell_type": "markdown",
   "metadata": {},
   "source": [
    "## Risk-free rate: Rate of 13 WEEK TREASURY BILL"
   ]
  },
  {
   "cell_type": "markdown",
   "metadata": {},
   "source": [
    "Raw data are annualized rates, and therefore it needs to be converted to monthly return in order to be compared with monthly stock and benchmark returns."
   ]
  },
  {
   "cell_type": "code",
   "execution_count": 5,
   "metadata": {
    "collapsed": false
   },
   "outputs": [
    {
     "name": "stdout",
     "output_type": "stream",
     "text": [
      "                ^IRX\n",
      "Date                \n",
      "1990-12-31  0.005214\n",
      "1991-01-31  0.005018\n",
      "1991-02-28  0.004899\n",
      "1991-03-29  0.004662\n",
      "1991-04-30  0.004480\n"
     ]
    }
   ],
   "source": [
    "rf_annualized_rate = read_from_csv( \"riskfree.csv\", rescale_factor = 0.01 );\n",
    "rf_annualized_rate = rf_annualized_rate.resample('BM').last();\n",
    "def deannualization_func( annual_rate, freq=\"M\" ):\n",
    "\tif freq is \"M\":\n",
    "\t\treturn (1+annual_rate)**(1./12) - 1\n",
    "\n",
    "rf_rate = rf_monthly_rate = rf_annualized_rate.apply( deannualization_func );\n",
    "riskfree_rate = rf_rate;\n",
    "\n",
    "print riskfree_rate.iloc[:5,:]"
   ]
  },
  {
   "cell_type": "markdown",
   "metadata": {
    "collapsed": true
   },
   "source": [
    "# 2. Test the signal"
   ]
  },
  {
   "cell_type": "markdown",
   "metadata": {},
   "source": [
    "A simple idea to test the signal: rank the universe based on the result of cross-sectional autogression results, and then pick the top 10 stocks to hold for the next period."
   ]
  },
  {
   "cell_type": "code",
   "execution_count": 11,
   "metadata": {
    "collapsed": false
   },
   "outputs": [],
   "source": [
    "from myStrategies.regression import Regression_OLS  # A strategy that's based on OLS regression\n",
    "\n",
    "lags = range(1,13);\n",
    "reg_lags_and_weights = {};\n",
    "for lag in lags:\n",
    "\treg_lags_and_weights[ lag ] = 1;\n",
    "    \n",
    "ols_strategy = Regression_OLS( \n",
    "\tstock_prices,\n",
    "\triskfree_rate,\n",
    "\tbenchmark_returns,\n",
    "\tresample_freq = \"BM\",\n",
    "\tsample_lookback = 60,\t\t\t# number of periods of looking back for training data\n",
    "\treg_lags_and_weights = reg_lags_and_weights,\n",
    "\tnum_longs = 10,\t\t\t\t\t# number of stocks to long for each period\n",
    "\tnum_shorts = 0,\t\t\t\t# number of stocks to short for each period\n",
    ");\n",
    "\n",
    "ols_backtest_res = ols_strategy.BackTest();\n"
   ]
  },
  {
   "cell_type": "markdown",
   "metadata": {},
   "source": [
    "We can calculate various measures in order to evaluate how the strategy performs.In perticular, the strategy exhibits high beta."
   ]
  },
  {
   "cell_type": "code",
   "execution_count": 12,
   "metadata": {
    "collapsed": false
   },
   "outputs": [
    {
     "name": "stdout",
     "output_type": "stream",
     "text": [
      "{'Average Return': 0.011840291603954011, 'Sortino': 0.0717828038550333, 'CAMP': (0.0055861166124176178, 1.3332234514503363), 'Sharpe': 0.50016302860703432, 'Info_Ratio': 0.4711980150621804, 'Volatility': 0.076079602721381964}\n"
     ]
    }
   ],
   "source": [
    "_, ols_strategy_analysis = ols_strategy.BackTestAnalysis();\n",
    "print ols_strategy_analysis;"
   ]
  },
  {
   "cell_type": "markdown",
   "metadata": {},
   "source": [
    "### Drawdown"
   ]
  },
  {
   "cell_type": "markdown",
   "metadata": {},
   "source": [
    "By plotting the cumulative return of the strategy, we noticed large drawdown during the financial crisis and recent market turmoil."
   ]
  },
  {
   "cell_type": "code",
   "execution_count": 13,
   "metadata": {
    "collapsed": false
   },
   "outputs": [
    {
     "data": {
      "image/png": "[encoded data removed]",
      "text/plain": [
       "<matplotlib.figure.Figure at 0x7fb8ceed4890>"
      ]
     },
     "metadata": {},
     "output_type": "display_data"
    }
   ],
   "source": [
    "plt.figure();\n",
    "ols_backtest_res[ \"cum_strategy\" ].plot( legend = True);"
   ]
  },
  {
   "cell_type": "markdown",
   "metadata": {},
   "source": [
    "### Look into regression results"
   ]
  },
  {
   "cell_type": "markdown",
   "metadata": {},
   "source": [
    "In Jagadeesh's paper, it was claimed that first order coefficient is in general negative. By plotting the regression coefficient, we do observe \"abnormal\" behavior from Jagadeesh's claim. We also plot the 95% confidence interval for each step to show its statistical significance."
   ]
  },
  {
   "cell_type": "code",
   "execution_count": 21,
   "metadata": {
    "collapsed": false
   },
   "outputs": [
    {
     "data": {
      "text/plain": [
       "<matplotlib.axes._subplots.AxesSubplot at 0x7fb8ce7adf50>"
      ]
     },
     "execution_count": 21,
     "metadata": {},
     "output_type": "execute_result"
    },
    {
     "data": {
      "image/png": "[encoded data removed]",
      "text/plain": [
       "<matplotlib.figure.Figure at 0x7fb8ce8056d0>"
      ]
     },
     "metadata": {},
     "output_type": "display_data"
    }
   ],
   "source": [
    "plt.figure();\n",
    "ols_strategy.reg_coefficients_df.loc[:,\"coeff_1\"].plot( legend = True );\n",
    "\n",
    "coeff1_lb_arr = list(); # Lower bound for 1st order regression coefficient\n",
    "coeff1_ub_arr = list(); # Upper bound for 1st order regression coefficient\n",
    "for reg_result in ols_strategy.reg_result_hist_df:\n",
    "    coeff1_lb_arr.append( reg_result.conf_int()[1,0] );    \n",
    "    coeff1_ub_arr.append( reg_result.conf_int()[1,1] );    \n",
    "\n",
    "reg_result_index = ols_strategy.reg_result_hist_df.index;\n",
    "coeff1_lb_series = pd.Series( coeff1_lb_arr, index=reg_result_index, name = \"coeff_1_lower_bound\" );\n",
    "coeff1_ub_series = pd.Series( coeff1_ub_arr, index=reg_result_index, name = \"coeff_1_lower_bound\" );\n",
    "\n",
    "coeff1_lb_series.plot( legend = True );\n",
    "coeff1_ub_series.plot( legend = True );\n",
    "                  "
   ]
  },
  {
   "cell_type": "markdown",
   "metadata": {
    "collapsed": true
   },
   "source": [
    "### Test on OLS assumptions"
   ]
  },
  {
   "cell_type": "markdown",
   "metadata": {},
   "source": [
    "It is important to test the basic assumptions for OLS regression. Below I show the p-values for normality test and heteroskedasticity test. It looks like, with the above setting (a lookback window of 60 months), the OLS residual satisfies both assumptions on normality and heteroskedasticity."
   ]
  },
  {
   "cell_type": "code",
   "execution_count": 24,
   "metadata": {
    "collapsed": false
   },
   "outputs": [
    {
     "data": {
      "image/png": "[encoded data removed]",
      "text/plain": [
       "<matplotlib.figure.Figure at 0x7fb8ce805810>"
      ]
     },
     "metadata": {},
     "output_type": "display_data"
    }
   ],
   "source": [
    "plt.figure();\n",
    "ols_strategy.normality_pvalues_series.plot( legend=True );\n",
    "ols_strategy.heteroskedasticity_pvalues_series.plot( legend=True );"
   ]
  },
  {
   "cell_type": "markdown",
   "metadata": {},
   "source": [
    "### Questions / Issues / Improvements"
   ]
  },
  {
   "cell_type": "markdown",
   "metadata": {},
   "source": [
    "1. Feature selections. Are all the selected lags for regression necessary? \n",
    "2. Dynamic adjust regression coefficients. How does the pre-determined lookback window of 60 months impact our prediction ability? \n",
    "3. How to avoid the large drawdown?"
   ]
  },
  {
   "cell_type": "markdown",
   "metadata": {},
   "source": [
    "# Attempt on feature selection: Lasso"
   ]
  },
  {
   "cell_type": "code",
   "execution_count": null,
   "metadata": {
    "collapsed": true
   },
   "outputs": [],
   "source": []
  }
 ],
 "metadata": {
  "kernelspec": {
   "display_name": "Python 2",
   "language": "python",
   "name": "python2"
  },
  "language_info": {
   "codemirror_mode": {
    "name": "ipython",
    "version": 2
   },
   "file_extension": ".py",
   "mimetype": "text/x-python",
   "name": "python",
   "nbconvert_exporter": "python",
   "pygments_lexer": "ipython2",
   "version": "2.7.6"
  }
 },
 "nbformat": 4,
 "nbformat_minor": 0
}
